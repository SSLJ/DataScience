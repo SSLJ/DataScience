{
 "cells": [
  {
   "cell_type": "markdown",
   "id": "3de2651c-a2ae-4cf7-8cd7-25eb15687f5f",
   "metadata": {},
   "source": [
    "# Data Science Tools and Ecosystem"
   ]
  },
  {
   "cell_type": "markdown",
   "id": "045e1d38-017f-458a-94cf-f3b70f3184db",
   "metadata": {},
   "source": [
    "# In this notebook, Data Science Tools and Ecosystem are summarized."
   ]
  },
  {
   "cell_type": "markdown",
   "id": "fac6e18f-ca44-4ccf-9fcb-cce68e330bb5",
   "metadata": {},
   "source": [
    "# Some of the popular languages that Data Scientists use are:\n",
    "##   1. Python\n",
    "##   2. SQL\n",
    "##   3. R\n",
    "##   4. Java\n",
    "##   5. JavaScript"
   ]
  },
  {
   "cell_type": "markdown",
   "id": "ff930f2f-f98e-4ec1-b0af-473bf408729d",
   "metadata": {},
   "source": [
    "# **Objectives:**\n",
    "##    * List popular Data Science Langauages\n",
    "##    * List popular Data Science tools\n",
    "##    * List popular Data Science Libraries\n",
    "##    * Working with Jupyter notebook/lab\n",
    "##    * Understanding Git/GitHub"
   ]
  },
  {
   "cell_type": "markdown",
   "id": "e468a87a-8684-4cf8-b984-8f33cdc774c9",
   "metadata": {},
   "source": [
    "# Some of the commonly used libraries used by Data Scientists include:\n",
    "##   1. Numpy\n",
    "##   2. Matplotlib\n",
    "##   3. Pandas\n",
    "##   4. Seaborn\n",
    "##   5. Scikit-learn"
   ]
  },
  {
   "cell_type": "markdown",
   "id": "46f31bd5-1dd4-4ffe-a41c-69350fa2f4b5",
   "metadata": {},
   "source": [
    "# | Data Science Tools |\n",
    "# |--------------------|\n",
    "# | Jupyter            |\n",
    "# | Watson             |\n",
    "# | PowerBI            |\n",
    "# | Pytorch            |"
   ]
  },
  {
   "cell_type": "markdown",
   "id": "011129fb-064f-4ec6-9210-f5f7dcf995ca",
   "metadata": {},
   "source": [
    "### Below are a few examples of evaluating arithmetic expressions in Python:\n"
   ]
  },
  {
   "cell_type": "code",
   "execution_count": 1,
   "id": "f8816370-c42d-452f-ae5d-a3a02304cc98",
   "metadata": {},
   "outputs": [
    {
     "data": {
      "text/plain": [
       "17"
      ]
     },
     "execution_count": 1,
     "metadata": {},
     "output_type": "execute_result"
    }
   ],
   "source": [
    "(3*4)+5 # This a simple arithmetic expression to mutiply then add integers"
   ]
  },
  {
   "cell_type": "code",
   "execution_count": 3,
   "id": "a78496f6-c90a-4f03-9895-9cb99f690229",
   "metadata": {},
   "outputs": [
    {
     "name": "stdout",
     "output_type": "stream",
     "text": [
      "3.3333333333333335  hrs\n"
     ]
    }
   ],
   "source": [
    "h=200/60 #This will convert 200 minutes to hours by diving by 60\n",
    "print(h,\" hrs\")"
   ]
  },
  {
   "cell_type": "markdown",
   "id": "479c8722-75e8-4e96-a51a-752a524eeaec",
   "metadata": {},
   "source": [
    "# **Author**\n",
    "# Lakshmi Holla\n",
    "# Niveditha Pandith\n",
    "\n",
    "## My name :\n",
    "### Shaun "
   ]
  },
  {
   "cell_type": "code",
   "execution_count": null,
   "id": "91ca405b-5755-48fa-a498-99e862cecb2a",
   "metadata": {},
   "outputs": [],
   "source": []
  }
 ],
 "metadata": {
  "kernelspec": {
   "display_name": "Python 3 (ipykernel)",
   "language": "python",
   "name": "python3"
  },
  "language_info": {
   "codemirror_mode": {
    "name": "ipython",
    "version": 3
   },
   "file_extension": ".py",
   "mimetype": "text/x-python",
   "name": "python",
   "nbconvert_exporter": "python",
   "pygments_lexer": "ipython3",
   "version": "3.13.1"
  }
 },
 "nbformat": 4,
 "nbformat_minor": 5
}
